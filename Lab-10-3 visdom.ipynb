{
 "cells": [
  {
   "cell_type": "code",
   "execution_count": 14,
   "id": "beginning-register",
   "metadata": {},
   "outputs": [],
   "source": [
    "import torch\n",
    "import torch.nn as nn\n",
    "\n",
    "import torchvision\n",
    "import torchvision.datasets as dsets"
   ]
  },
  {
   "cell_type": "code",
   "execution_count": 15,
   "id": "vocational-ribbon",
   "metadata": {},
   "outputs": [
    {
     "name": "stderr",
     "output_type": "stream",
     "text": [
      "Setting up a new session...\n"
     ]
    }
   ],
   "source": [
    "import visdom\n",
    "vis = visdom.Visdom()"
   ]
  },
  {
   "cell_type": "markdown",
   "id": "voluntary-place",
   "metadata": {},
   "source": [
    "# Text"
   ]
  },
  {
   "cell_type": "code",
   "execution_count": 16,
   "id": "unable-rebate",
   "metadata": {},
   "outputs": [
    {
     "data": {
      "text/plain": [
       "'window_3a17cf07f44800'"
      ]
     },
     "execution_count": 16,
     "metadata": {},
     "output_type": "execute_result"
    }
   ],
   "source": [
    "vis.text(\"Hello,world\",env='main')"
   ]
  },
  {
   "cell_type": "code",
   "execution_count": 17,
   "id": "nominated-cameroon",
   "metadata": {},
   "outputs": [],
   "source": [
    "# imagee"
   ]
  },
  {
   "cell_type": "code",
   "execution_count": 18,
   "id": "otherwise-dutch",
   "metadata": {},
   "outputs": [
    {
     "data": {
      "text/plain": [
       "'window_3a17cf0810d1fc'"
      ]
     },
     "execution_count": 18,
     "metadata": {},
     "output_type": "execute_result"
    }
   ],
   "source": [
    "vis.image(torch.Tensor(3,28,28))"
   ]
  },
  {
   "cell_type": "code",
   "execution_count": 19,
   "id": "excess-rating",
   "metadata": {},
   "outputs": [
    {
     "data": {
      "text/plain": [
       "'window_3a17cf08240cbe'"
      ]
     },
     "execution_count": 19,
     "metadata": {},
     "output_type": "execute_result"
    }
   ],
   "source": [
    "vis.images(torch.Tensor(3,3,28,28))"
   ]
  },
  {
   "cell_type": "code",
   "execution_count": 20,
   "id": "biological-conditions",
   "metadata": {},
   "outputs": [],
   "source": [
    "# example"
   ]
  },
  {
   "cell_type": "code",
   "execution_count": 21,
   "id": "broad-recycling",
   "metadata": {},
   "outputs": [
    {
     "name": "stdout",
     "output_type": "stream",
     "text": [
      "Files already downloaded and verified\n"
     ]
    }
   ],
   "source": [
    "MNIST = dsets.MNIST(root=\"./MNIST_data\",train = True,transform=torchvision.transforms.ToTensor(), download=True)\n",
    "cifar10 = dsets.CIFAR10(root=\"./cifar10\",train = True, transform=torchvision.transforms.ToTensor(),download=True)"
   ]
  },
  {
   "cell_type": "code",
   "execution_count": 22,
   "id": "suspended-amber",
   "metadata": {},
   "outputs": [
    {
     "name": "stdout",
     "output_type": "stream",
     "text": [
      "torch.Size([3, 32, 32])\n"
     ]
    },
    {
     "data": {
      "text/plain": [
       "'window_3a17cf08b67be2'"
      ]
     },
     "execution_count": 22,
     "metadata": {},
     "output_type": "execute_result"
    }
   ],
   "source": [
    "data = cifar10.__getitem__(0)\n",
    "print(data[0].shape)\n",
    "vis.images(data[0],env=\"main\")"
   ]
  },
  {
   "cell_type": "code",
   "execution_count": 23,
   "id": "patent-architecture",
   "metadata": {},
   "outputs": [],
   "source": [
    "# Check dataset"
   ]
  },
  {
   "cell_type": "code",
   "execution_count": 24,
   "id": "grand-restaurant",
   "metadata": {},
   "outputs": [],
   "source": [
    "data_loader = torch.utils.data.DataLoader(dataset=MNIST,batch_size = 32, shuffle=False)"
   ]
  },
  {
   "cell_type": "code",
   "execution_count": 38,
   "id": "bearing-seven",
   "metadata": {},
   "outputs": [
    {
     "name": "stdout",
     "output_type": "stream",
     "text": [
      "torch.Size([32, 1, 28, 28])\n"
     ]
    }
   ],
   "source": [
    "for num, value in enumerate(data_loader):\n",
    "    value = value[0]\n",
    "    print(value.shape)\n",
    "    vis.images(value)\n",
    "    break"
   ]
  },
  {
   "cell_type": "code",
   "execution_count": 39,
   "id": "talented-inflation",
   "metadata": {},
   "outputs": [],
   "source": [
    "#line plot"
   ]
  },
  {
   "cell_type": "code",
   "execution_count": 40,
   "id": "regulated-syndrome",
   "metadata": {},
   "outputs": [],
   "source": [
    "Y_data = torch.randn(5)\n",
    "plt = vis.line(Y=Y_data)"
   ]
  },
  {
   "cell_type": "code",
   "execution_count": 41,
   "id": "acceptable-sacramento",
   "metadata": {},
   "outputs": [],
   "source": [
    "X_data = torch.Tensor([1,2,3,4,5])\n",
    "plt = vis.line(Y=Y_data,X=X_data) # x값을 선정하지 않으면 0부터 1이 생성됨"
   ]
  },
  {
   "cell_type": "code",
   "execution_count": 42,
   "id": "portuguese-lawyer",
   "metadata": {},
   "outputs": [
    {
     "data": {
      "text/plain": [
       "'window_3a17cfd618c78c'"
      ]
     },
     "execution_count": 42,
     "metadata": {},
     "output_type": "execute_result"
    }
   ],
   "source": [
    "Y_append = torch.randn(1)\n",
    "X_append = torch.Tensor([6])\n",
    "\n",
    "vis.line(Y=Y_append, X=X_append, win=plt, update = 'append')\n",
    "\n",
    "#들어갈 X값과 Y값을 넣어준다. X= 추가하는 값의 인덱스, Y= 추가하는 값\n"
   ]
  },
  {
   "cell_type": "code",
   "execution_count": 43,
   "id": "still-tackle",
   "metadata": {},
   "outputs": [],
   "source": [
    "# Multiple Line on single windows"
   ]
  },
  {
   "cell_type": "code",
   "execution_count": 51,
   "id": "residential-paragraph",
   "metadata": {},
   "outputs": [
    {
     "name": "stdout",
     "output_type": "stream",
     "text": [
      "torch.Size([10])\n",
      "torch.Size([10, 1])\n",
      "torch.Size([10, 2])\n"
     ]
    }
   ],
   "source": [
    "num = torch.Tensor(list(range(0,10)))\n",
    "print(num.shape)\n",
    "num = num.view(-1,1)\n",
    "print(num.shape)\n",
    "num = torch.cat((num,num),dim=1) # what is cat?\n",
    "print(num.shape)\n",
    "plt = vis.line(Y=torch.randn(10,2),X=num)"
   ]
  },
  {
   "cell_type": "code",
   "execution_count": 52,
   "id": "simplified-rally",
   "metadata": {},
   "outputs": [],
   "source": [
    "plt = vis.line(Y=Y_data, X=X_data, opts = dict(title='Test',showlegend=True))\n",
    "# whet is opts?"
   ]
  },
  {
   "cell_type": "code",
   "execution_count": 54,
   "id": "metropolitan-restaurant",
   "metadata": {},
   "outputs": [],
   "source": [
    "plt = vis.line(Y=Y_data,X=X_data,opts =dict(title='Test',legend=['1번'],showlegend=True))"
   ]
  },
  {
   "cell_type": "code",
   "execution_count": 58,
   "id": "material-species",
   "metadata": {},
   "outputs": [],
   "source": [
    "plt = vis.line(Y=torch.randn(10,2),X=num,opts = dict(title='Test',legend=['1번','2번'],showlegend=True))"
   ]
  },
  {
   "cell_type": "code",
   "execution_count": 59,
   "id": "seeing-metro",
   "metadata": {},
   "outputs": [],
   "source": [
    "# make function for update line\n",
    "# cnn을 가지고 loss function이 업데이트 되는 plot을 그리고 싶을 때 "
   ]
  },
  {
   "cell_type": "code",
   "execution_count": 63,
   "id": "collectible-audit",
   "metadata": {},
   "outputs": [],
   "source": [
    "def loss_tracker(loss_plot, loss_value,num):\n",
    "    #'''num, loss_value, are Tensor'''\n",
    "    vis.line(X=num,Y=loss_value,win=loss_plot,update='append')"
   ]
  },
  {
   "cell_type": "code",
   "execution_count": 69,
   "id": "comparable-uzbekistan",
   "metadata": {},
   "outputs": [],
   "source": [
    "plt = vis.line(Y=torch.Tensor(1).zero_())\n",
    "\n",
    "for i in range(500):\n",
    "    loss = torch.randn(1) + i\n",
    "    loss_tracker(plt, loss, torch.Tensor([i])) # ([i])) 형태 무엇? "
   ]
  },
  {
   "cell_type": "code",
   "execution_count": 70,
   "id": "pretty-magnet",
   "metadata": {},
   "outputs": [],
   "source": [
    "# close the window"
   ]
  },
  {
   "cell_type": "code",
   "execution_count": 71,
   "id": "structured-eligibility",
   "metadata": {},
   "outputs": [
    {
     "data": {
      "text/plain": [
       "''"
      ]
     },
     "execution_count": 71,
     "metadata": {},
     "output_type": "execute_result"
    }
   ],
   "source": [
    "vis.close(env='main')"
   ]
  },
  {
   "cell_type": "code",
   "execution_count": null,
   "id": "champion-candy",
   "metadata": {},
   "outputs": [],
   "source": []
  }
 ],
 "metadata": {
  "kernelspec": {
   "display_name": "Python 3",
   "language": "python",
   "name": "python3"
  },
  "language_info": {
   "codemirror_mode": {
    "name": "ipython",
    "version": 3
   },
   "file_extension": ".py",
   "mimetype": "text/x-python",
   "name": "python",
   "nbconvert_exporter": "python",
   "pygments_lexer": "ipython3",
   "version": "3.8.5"
  }
 },
 "nbformat": 4,
 "nbformat_minor": 5
}
