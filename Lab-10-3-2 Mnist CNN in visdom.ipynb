{
 "cells": [
  {
   "cell_type": "code",
   "execution_count": 1,
   "id": "earlier-roller",
   "metadata": {},
   "outputs": [
    {
     "name": "stderr",
     "output_type": "stream",
     "text": [
      "Setting up a new session...\n"
     ]
    }
   ],
   "source": [
    "import torch\n",
    "import torch.nn as nn\n",
    "\n",
    "import visdom\n",
    "vis = visdom.Visdom()"
   ]
  },
  {
   "cell_type": "code",
   "execution_count": 3,
   "id": "growing-click",
   "metadata": {},
   "outputs": [],
   "source": [
    "import torch\n",
    "import torchvision.datasets as dsets\n",
    "import torchvision.transforms as transforms\n",
    "\n",
    "import torch.nn.init"
   ]
  },
  {
   "cell_type": "markdown",
   "id": "purple-headline",
   "metadata": {},
   "source": [
    "# define loss_tracker"
   ]
  },
  {
   "cell_type": "code",
   "execution_count": 4,
   "id": "acting-baltimore",
   "metadata": {},
   "outputs": [],
   "source": [
    "def loss_tracker(loss_plot, loss_value,num):\n",
    "    #'''num, loss_value, are Tensor'''\n",
    "    vis.line(X=num,Y=loss_value,win=loss_plot,update='append')"
   ]
  },
  {
   "cell_type": "code",
   "execution_count": 5,
   "id": "completed-deviation",
   "metadata": {},
   "outputs": [],
   "source": [
    "device = 'cuda' if torch.cuda.is_available() else 'cpu'\n",
    "\n",
    "torch.manual_seed(777)\n",
    "if device == 'cuda':\n",
    "    torch.cuda.manual_seed_all(777)"
   ]
  },
  {
   "cell_type": "code",
   "execution_count": 6,
   "id": "baking-variation",
   "metadata": {},
   "outputs": [
    {
     "data": {
      "text/plain": [
       "False"
      ]
     },
     "execution_count": 6,
     "metadata": {},
     "output_type": "execute_result"
    }
   ],
   "source": [
    "torch.cuda.is_available()"
   ]
  },
  {
   "cell_type": "code",
   "execution_count": 7,
   "id": "eleven-ranking",
   "metadata": {},
   "outputs": [],
   "source": [
    "#parameter\n",
    "learning_rate = 0.001\n",
    "training_epochs = 15\n",
    "batch_size = 100"
   ]
  },
  {
   "cell_type": "code",
   "execution_count": 8,
   "id": "imposed-intensity",
   "metadata": {},
   "outputs": [
    {
     "name": "stderr",
     "output_type": "stream",
     "text": [
      "C:\\ProgramData\\Miniconda3\\lib\\site-packages\\torchvision\\datasets\\mnist.py:498: UserWarning: The given NumPy array is not writeable, and PyTorch does not support non-writeable tensors. This means you can write to the underlying (supposedly non-writeable) NumPy array using the tensor. You may want to copy the array to protect its data or make it writeable before converting it to a tensor. This type of warning will be suppressed for the rest of this program. (Triggered internally at  ..\\torch\\csrc\\utils\\tensor_numpy.cpp:180.)\n",
      "  return torch.from_numpy(parsed.astype(m[2], copy=False)).view(*s)\n"
     ]
    }
   ],
   "source": [
    "mnist_train = dsets.MNIST(root='MNIST_data/',train=True,transform=transforms.ToTensor(),download=True)"
   ]
  },
  {
   "cell_type": "code",
   "execution_count": 9,
   "id": "neural-plaza",
   "metadata": {},
   "outputs": [],
   "source": [
    "mnist_test = dsets.MNIST(root='MNIST_data/',train=False,transform=transforms.ToTensor(),download=True)"
   ]
  },
  {
   "cell_type": "code",
   "execution_count": 10,
   "id": "fundamental-sympathy",
   "metadata": {},
   "outputs": [],
   "source": [
    "data_loader = torch.utils.data.DataLoader(dataset=mnist_train,batch_size = batch_size,shuffle= True,drop_last=True)"
   ]
  },
  {
   "cell_type": "code",
   "execution_count": 11,
   "id": "reserved-specialist",
   "metadata": {},
   "outputs": [],
   "source": [
    "class CNN(nn.Module):\n",
    "    \n",
    "    def __init__(self):\n",
    "        super(CNN,self).__init__()\n",
    "        self.layer1 = nn.Sequential(nn.Conv2d(1,32,kernel_size=3,stride=1,padding=1),\n",
    "                                    nn.ReLU(),\n",
    "                                    nn.MaxPool2d(2))\n",
    "        self.layer2 = nn.Sequential(nn.Conv2d(32,64,kernel_size=3,stride=1,padding=1),\n",
    "                                   nn.ReLU(),nn.MaxPool2d(2))\n",
    "        \n",
    "        self.fc = nn.Linear(7*7*64, 10,bias=True)\n",
    "        torch.nn.init.xavier_uniform_(self.fc.weight)\n",
    "        \n",
    "    def forward(self, x):\n",
    "        out = self.layer1(x)\n",
    "        out = self.layer2(out)\n",
    "        out = out.view(out.size(0),-1)\n",
    "        out = self.fc(out)\n",
    "        return out"
   ]
  },
  {
   "cell_type": "code",
   "execution_count": 12,
   "id": "miniature-favorite",
   "metadata": {},
   "outputs": [
    {
     "data": {
      "text/plain": [
       "CNN(\n",
       "  (layer1): Sequential(\n",
       "    (0): Conv2d(1, 32, kernel_size=(3, 3), stride=(1, 1), padding=(1, 1))\n",
       "    (1): ReLU()\n",
       "    (2): MaxPool2d(kernel_size=2, stride=2, padding=0, dilation=1, ceil_mode=False)\n",
       "  )\n",
       "  (layer2): Sequential(\n",
       "    (0): Conv2d(32, 64, kernel_size=(3, 3), stride=(1, 1), padding=(1, 1))\n",
       "    (1): ReLU()\n",
       "    (2): MaxPool2d(kernel_size=2, stride=2, padding=0, dilation=1, ceil_mode=False)\n",
       "  )\n",
       "  (fc): Linear(in_features=3136, out_features=10, bias=True)\n",
       ")"
      ]
     },
     "execution_count": 12,
     "metadata": {},
     "output_type": "execute_result"
    }
   ],
   "source": [
    "model = CNN().to(device)\n",
    "model"
   ]
  },
  {
   "cell_type": "code",
   "execution_count": 13,
   "id": "synthetic-journal",
   "metadata": {},
   "outputs": [],
   "source": [
    "criterion = nn.CrossEntropyLoss().to(device)\n",
    "optimizer = torch.optim.Adam(model.parameters(),lr=learning_rate)"
   ]
  },
  {
   "cell_type": "code",
   "execution_count": 14,
   "id": "fitted-falls",
   "metadata": {},
   "outputs": [],
   "source": [
    "# make plot"
   ]
  },
  {
   "cell_type": "code",
   "execution_count": 17,
   "id": "regulated-maine",
   "metadata": {},
   "outputs": [],
   "source": [
    "loss_plt = vis.line(Y=torch.Tensor(1).zero_(), opts = dict(title='loss_tracker',legend=['loss'],showlegend=True))\n",
    "# why use? torch.Tensor(1).zero() ??"
   ]
  },
  {
   "cell_type": "code",
   "execution_count": 18,
   "id": "opposite-finance",
   "metadata": {
    "scrolled": true
   },
   "outputs": [
    {
     "name": "stderr",
     "output_type": "stream",
     "text": [
      "C:\\ProgramData\\Miniconda3\\lib\\site-packages\\torch\\nn\\functional.py:718: UserWarning: Named tensors and all their associated APIs are an experimental feature and subject to change. Please do not use them for anything important until they are released as stable. (Triggered internally at  ..\\c10/core/TensorImpl.h:1156.)\n",
      "  return torch.max_pool2d(input, kernel_size, stride, padding, dilation, ceil_mode)\n"
     ]
    },
    {
     "name": "stdout",
     "output_type": "stream",
     "text": [
      "[Epoch:1] cost = 1.353908896446228\n",
      "[Epoch:2] cost = 0.3782314360141754\n",
      "[Epoch:3] cost = 0.27784302830696106\n",
      "[Epoch:4] cost = 0.22508074343204498\n",
      "[Epoch:5] cost = 0.1894233226776123\n",
      "[Epoch:6] cost = 0.15608547627925873\n",
      "[Epoch:7] cost = 0.13123758137226105\n",
      "[Epoch:8] cost = 0.11082186549901962\n",
      "[Epoch:9] cost = 0.09659358859062195\n",
      "[Epoch:10] cost = 0.08283358812332153\n",
      "[Epoch:11] cost = 0.06143629923462868\n",
      "[Epoch:12] cost = 0.06064704433083534\n",
      "[Epoch:13] cost = 0.04981745779514313\n",
      "[Epoch:14] cost = 0.03950808197259903\n",
      "[Epoch:15] cost = 0.04304097592830658\n",
      "Learning FINISHED\n"
     ]
    }
   ],
   "source": [
    "#training\n",
    "total_batch = len(data_loader)\n",
    "\n",
    "for epoch in range(training_epochs):\n",
    "    avg_cost = 0\n",
    "    \n",
    "    for X,Y in data_loader:\n",
    "        X = X.to(device)\n",
    "        Y = Y.to(device)\n",
    "        \n",
    "        optimizer.zero_grad()\n",
    "        hypothesis = model(X)\n",
    "        \n",
    "        cost = criterion(hypothesis,Y)\n",
    "        cost.backward()\n",
    "        optimizer.step()\n",
    "        \n",
    "        avg_cost +=cost / batch_size\n",
    "        \n",
    "    print('[Epoch:{}] cost = {}'.format(epoch+1, avg_cost))\n",
    "    loss_tracker(loss_plt,torch.Tensor([avg_cost]),torch.Tensor([epoch]))\n",
    "print('Learning FINISHED')\n",
    "\n",
    "        \n",
    "        #torch.Tensor([epoch]) -> 형태의 의미 찾기\n",
    "        "
   ]
  },
  {
   "attachments": {
    "image.png": {
     "image/png": "[encoded data removed]"
    }
   },
   "cell_type": "markdown",
   "id": "southwest-denver",
   "metadata": {},
   "source": [
    "![image.png](attachment:image.png)"
   ]
  },
  {
   "cell_type": "code",
   "execution_count": 79,
   "id": "medium-rescue",
   "metadata": {},
   "outputs": [
    {
     "name": "stderr",
     "output_type": "stream",
     "text": [
      "C:\\ProgramData\\Miniconda3\\lib\\site-packages\\torchvision\\datasets\\mnist.py:57: UserWarning: test_labels has been renamed targets\n",
      "  warnings.warn(\"test_labels has been renamed targets\")\n"
     ]
    },
    {
     "name": "stdout",
     "output_type": "stream",
     "text": [
      "Accuracy 0.9847999811172485\n"
     ]
    }
   ],
   "source": [
    "with torch.no_grad():\n",
    "    X_test = mnist_test.test_data.view(len(mnist_test),1,28,28).float().to(device)\n",
    "    Y_test = mnist_test.test_labels.to(device)\n",
    "    \n",
    "    prediction = model(X_test)\n",
    "    correct_prediction = torch.argmax(prediction,1) == Y_test # 이부분 이해필요\n",
    "    accuracy = correct_prediction.float().mean()\n",
    "    print('Accuracy', accuracy.item())"
   ]
  },
  {
   "cell_type": "code",
   "execution_count": null,
   "id": "after-ebony",
   "metadata": {},
   "outputs": [],
   "source": [
    "device cuda 설정\n",
    "\n",
    "트레인 데이터 테스트데이터 나누기\n",
    "데이터 불러오기\n",
    "\n",
    "\n",
    "기본적 모델 class 만들기\n",
    "\n",
    "모델에 트레인 값 넣기\n",
    "\n",
    "표준화 함수 선택\n",
    "최적화 함수 선택\n",
    "\n",
    "에폭 돌리기\n",
    " 이미지데이터, 라벨 데이터 구분후\n",
    "    \n",
    " 학습시켜주기 제로 그레이드, 코스트 백워드(백프로파게이션을 이용해 코스트함수 업데이트)\n",
    " 옵티마이저 스텝(학습후 다음 학습이 이어지게 만듬)\n",
    " \n",
    " 평균 코스트값을 구한다 코스트값 / 토탈 배치\n",
    "    \n",
    "윗 노그레이드 경사값을 활용하지않음 어차피 아닌 부분 제외하여 역전파시 계산 속도를 높임\n",
    "학습한 '모델'을 활용하여 성능을 측정\n",
    "\n",
    "\n",
    " "
   ]
  }
 ],
 "metadata": {
  "kernelspec": {
   "display_name": "Python 3",
   "language": "python",
   "name": "python3"
  },
  "language_info": {
   "codemirror_mode": {
    "name": "ipython",
    "version": 3
   },
   "file_extension": ".py",
   "mimetype": "text/x-python",
   "name": "python",
   "nbconvert_exporter": "python",
   "pygments_lexer": "ipython3",
   "version": "3.8.5"
  }
 },
 "nbformat": 4,
 "nbformat_minor": 5
}
