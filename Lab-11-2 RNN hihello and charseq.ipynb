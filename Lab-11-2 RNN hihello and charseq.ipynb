{
 "cells": [
  {
   "cell_type": "code",
   "execution_count": 1,
   "id": "unnecessary-purse",
   "metadata": {},
   "outputs": [],
   "source": [
    "import torch\n",
    "import torch.optim as optim\n",
    "import numpy as np"
   ]
  },
  {
   "cell_type": "markdown",
   "id": "creative-shame",
   "metadata": {},
   "source": [
    "# code run through"
   ]
  },
  {
   "cell_type": "code",
   "execution_count": 29,
   "id": "accredited-convergence",
   "metadata": {},
   "outputs": [],
   "source": [
    "sample= \" if you want you \""
   ]
  },
  {
   "cell_type": "code",
   "execution_count": 30,
   "id": "unlikely-glucose",
   "metadata": {},
   "outputs": [],
   "source": [
    "# make dictionary"
   ]
  },
  {
   "cell_type": "code",
   "execution_count": 31,
   "id": "requested-olympus",
   "metadata": {},
   "outputs": [],
   "source": [
    "char_set = list(set(sample))\n",
    "char_dic = {c: i for i,c in enumerate(char_set)}"
   ]
  },
  {
   "cell_type": "code",
   "execution_count": 32,
   "id": "initial-interference",
   "metadata": {},
   "outputs": [
    {
     "data": {
      "text/plain": [
       "['o', 't', 'i', ' ', 'y', 'n', 'u', 'w', 'a', 'f']"
      ]
     },
     "execution_count": 32,
     "metadata": {},
     "output_type": "execute_result"
    }
   ],
   "source": [
    "char_set"
   ]
  },
  {
   "cell_type": "code",
   "execution_count": 33,
   "id": "three-original",
   "metadata": {},
   "outputs": [
    {
     "data": {
      "text/plain": [
       "{'o': 0,\n",
       " 't': 1,\n",
       " 'i': 2,\n",
       " ' ': 3,\n",
       " 'y': 4,\n",
       " 'n': 5,\n",
       " 'u': 6,\n",
       " 'w': 7,\n",
       " 'a': 8,\n",
       " 'f': 9}"
      ]
     },
     "execution_count": 33,
     "metadata": {},
     "output_type": "execute_result"
    }
   ],
   "source": [
    "char_dic"
   ]
  },
  {
   "cell_type": "code",
   "execution_count": 34,
   "id": "trained-angola",
   "metadata": {},
   "outputs": [],
   "source": [
    "dic_size = len(char_dic)\n",
    "hidden_size = len(char_dic)\n",
    "learning_rate = 0.1"
   ]
  },
  {
   "cell_type": "code",
   "execution_count": 35,
   "id": "located-medicine",
   "metadata": {},
   "outputs": [],
   "source": [
    "sample_idx = [char_dic[c] for c in sample]\n",
    "x_data = [sample_idx[:-1]]\n",
    "x_one_hot = [np.eye(dic_size)[x] for x in x_data]\n",
    "y_data = [sample_idx[1:]]"
   ]
  },
  {
   "cell_type": "code",
   "execution_count": 36,
   "id": "automated-haven",
   "metadata": {},
   "outputs": [
    {
     "data": {
      "text/plain": [
       "[3, 2, 9, 3, 4, 0, 6, 3, 7, 8, 5, 1, 3, 4, 0, 6, 3]"
      ]
     },
     "execution_count": 36,
     "metadata": {},
     "output_type": "execute_result"
    }
   ],
   "source": [
    "sample_idx"
   ]
  },
  {
   "cell_type": "code",
   "execution_count": 37,
   "id": "determined-carbon",
   "metadata": {},
   "outputs": [
    {
     "data": {
      "text/plain": [
       "[[3, 2, 9, 3, 4, 0, 6, 3, 7, 8, 5, 1, 3, 4, 0, 6]]"
      ]
     },
     "execution_count": 37,
     "metadata": {},
     "output_type": "execute_result"
    }
   ],
   "source": [
    "x_data # 마지막에 3이없는 것을 볼 수 있음"
   ]
  },
  {
   "cell_type": "code",
   "execution_count": 38,
   "id": "identified-sheriff",
   "metadata": {},
   "outputs": [
    {
     "data": {
      "text/plain": [
       "[array([[0., 0., 0., 1., 0., 0., 0., 0., 0., 0.],\n",
       "        [0., 0., 1., 0., 0., 0., 0., 0., 0., 0.],\n",
       "        [0., 0., 0., 0., 0., 0., 0., 0., 0., 1.],\n",
       "        [0., 0., 0., 1., 0., 0., 0., 0., 0., 0.],\n",
       "        [0., 0., 0., 0., 1., 0., 0., 0., 0., 0.],\n",
       "        [1., 0., 0., 0., 0., 0., 0., 0., 0., 0.],\n",
       "        [0., 0., 0., 0., 0., 0., 1., 0., 0., 0.],\n",
       "        [0., 0., 0., 1., 0., 0., 0., 0., 0., 0.],\n",
       "        [0., 0., 0., 0., 0., 0., 0., 1., 0., 0.],\n",
       "        [0., 0., 0., 0., 0., 0., 0., 0., 1., 0.],\n",
       "        [0., 0., 0., 0., 0., 1., 0., 0., 0., 0.],\n",
       "        [0., 1., 0., 0., 0., 0., 0., 0., 0., 0.],\n",
       "        [0., 0., 0., 1., 0., 0., 0., 0., 0., 0.],\n",
       "        [0., 0., 0., 0., 1., 0., 0., 0., 0., 0.],\n",
       "        [1., 0., 0., 0., 0., 0., 0., 0., 0., 0.],\n",
       "        [0., 0., 0., 0., 0., 0., 1., 0., 0., 0.]])]"
      ]
     },
     "execution_count": 38,
     "metadata": {},
     "output_type": "execute_result"
    }
   ],
   "source": [
    "x_one_hot"
   ]
  },
  {
   "cell_type": "code",
   "execution_count": 39,
   "id": "located-floating",
   "metadata": {},
   "outputs": [
    {
     "data": {
      "text/plain": [
       "[[2, 9, 3, 4, 0, 6, 3, 7, 8, 5, 1, 3, 4, 0, 6, 3]]"
      ]
     },
     "execution_count": 39,
     "metadata": {},
     "output_type": "execute_result"
    }
   ],
   "source": [
    "y_data"
   ]
  },
  {
   "cell_type": "code",
   "execution_count": 40,
   "id": "framed-appeal",
   "metadata": {
    "scrolled": true
   },
   "outputs": [
    {
     "data": {
      "text/plain": [
       "{'o': 0,\n",
       " 't': 1,\n",
       " 'i': 2,\n",
       " ' ': 3,\n",
       " 'y': 4,\n",
       " 'n': 5,\n",
       " 'u': 6,\n",
       " 'w': 7,\n",
       " 'a': 8,\n",
       " 'f': 9}"
      ]
     },
     "execution_count": 40,
     "metadata": {},
     "output_type": "execute_result"
    }
   ],
   "source": [
    "char_dic"
   ]
  },
  {
   "cell_type": "code",
   "execution_count": 41,
   "id": "crucial-lincoln",
   "metadata": {},
   "outputs": [
    {
     "data": {
      "text/plain": [
       "<torch._C.Generator at 0x1cd93777630>"
      ]
     },
     "execution_count": 41,
     "metadata": {},
     "output_type": "execute_result"
    }
   ],
   "source": [
    "torch.manual_seed(0)"
   ]
  },
  {
   "cell_type": "code",
   "execution_count": 42,
   "id": "polished-twenty",
   "metadata": {},
   "outputs": [],
   "source": [
    "char_set = ['h', 'i', 'e', 'l', 'o']"
   ]
  },
  {
   "cell_type": "code",
   "execution_count": 43,
   "id": "architectural-tolerance",
   "metadata": {},
   "outputs": [],
   "source": [
    "input_size = len(char_set)\n",
    "hidden_size = len(char_set)\n",
    "learning_rate = 0.1\n"
   ]
  },
  {
   "cell_type": "code",
   "execution_count": 44,
   "id": "harmful-collector",
   "metadata": {},
   "outputs": [],
   "source": [
    "x_data = [[0, 1, 0, 2, 3, 3]]\n",
    "x_one_hot = [[[1, 0, 0, 0, 0],\n",
    "              [0, 1, 0, 0, 0],\n",
    "              [1, 0, 0, 0, 0],\n",
    "              [0, 0, 1, 0, 0],\n",
    "              [0, 0, 0, 1, 0],\n",
    "              [0, 0, 0, 1, 0]]] #다음 알파벳을 예측하는 것이므로 \"o\"에관한 인코딩은 없음\n",
    "y_data = [[1, 0, 2, 3, 3, 4]]\n"
   ]
  },
  {
   "cell_type": "code",
   "execution_count": null,
   "id": "sticky-exercise",
   "metadata": {},
   "outputs": [],
   "source": []
  },
  {
   "cell_type": "code",
   "execution_count": 45,
   "id": "mighty-system",
   "metadata": {},
   "outputs": [],
   "source": [
    "X = torch.FloatTensor(x_one_hot)\n",
    "Y = torch.LongTensor(y_data)"
   ]
  },
  {
   "cell_type": "code",
   "execution_count": 46,
   "id": "liquid-manchester",
   "metadata": {},
   "outputs": [],
   "source": [
    "rnn = torch.nn.RNN(input_size, hidden_size, batch_first=True)"
   ]
  },
  {
   "cell_type": "code",
   "execution_count": null,
   "id": "hispanic-punishment",
   "metadata": {},
   "outputs": [],
   "source": []
  },
  {
   "cell_type": "code",
   "execution_count": 47,
   "id": "soviet-familiar",
   "metadata": {},
   "outputs": [],
   "source": [
    "criterion = torch.nn.CrossEntropyLoss()\n",
    "optimizer = optim.Adam(rnn.parameters(),learning_rate)"
   ]
  },
  {
   "cell_type": "code",
   "execution_count": 48,
   "id": "conscious-riding",
   "metadata": {},
   "outputs": [
    {
     "name": "stdout",
     "output_type": "stream",
     "text": [
      "0 loss: 1.7802648544311523 prediction  [[1 1 1 1 1 1]] true Y: y_data prediction str: iiiiii\n",
      "1 loss: 1.4931949377059937 prediction  [[1 4 1 1 4 4]] true Y: y_data prediction str: ioiioo\n",
      "2 loss: 1.33371102809906 prediction  [[1 3 2 3 1 4]] true Y: y_data prediction str: ilelio\n",
      "3 loss: 1.2152944803237915 prediction  [[2 3 2 3 3 3]] true Y: y_data prediction str: elelll\n",
      "4 loss: 1.1131387948989868 prediction  [[2 3 2 3 3 3]] true Y: y_data prediction str: elelll\n",
      "5 loss: 1.0241864919662476 prediction  [[2 3 2 3 3 4]] true Y: y_data prediction str: elello\n",
      "6 loss: 0.9573140740394592 prediction  [[2 3 2 3 3 4]] true Y: y_data prediction str: elello\n",
      "7 loss: 0.9102001786231995 prediction  [[2 0 2 3 3 4]] true Y: y_data prediction str: ehello\n",
      "8 loss: 0.8731765747070312 prediction  [[1 0 2 3 3 4]] true Y: y_data prediction str: ihello\n",
      "9 loss: 0.8399617671966553 prediction  [[1 0 2 3 3 4]] true Y: y_data prediction str: ihello\n",
      "10 loss: 0.8088943958282471 prediction  [[1 0 2 3 3 4]] true Y: y_data prediction str: ihello\n",
      "11 loss: 0.7812860012054443 prediction  [[1 0 2 3 3 4]] true Y: y_data prediction str: ihello\n",
      "12 loss: 0.7585341334342957 prediction  [[1 3 2 3 3 4]] true Y: y_data prediction str: ilello\n",
      "13 loss: 0.7401288151741028 prediction  [[1 3 2 3 3 4]] true Y: y_data prediction str: ilello\n",
      "14 loss: 0.7243585586547852 prediction  [[1 3 2 3 3 4]] true Y: y_data prediction str: ilello\n",
      "15 loss: 0.709122359752655 prediction  [[1 3 2 3 3 4]] true Y: y_data prediction str: ilello\n",
      "16 loss: 0.6929273009300232 prediction  [[1 3 2 3 3 4]] true Y: y_data prediction str: ilello\n",
      "17 loss: 0.6821203231811523 prediction  [[1 3 2 3 3 4]] true Y: y_data prediction str: ilello\n",
      "18 loss: 0.6735276579856873 prediction  [[1 3 2 3 3 4]] true Y: y_data prediction str: ilello\n",
      "19 loss: 0.6595445871353149 prediction  [[1 3 2 3 3 4]] true Y: y_data prediction str: ilello\n",
      "20 loss: 0.6534827351570129 prediction  [[1 3 2 3 3 4]] true Y: y_data prediction str: ilello\n",
      "21 loss: 0.6465461254119873 prediction  [[1 3 2 3 3 4]] true Y: y_data prediction str: ilello\n",
      "22 loss: 0.6398186087608337 prediction  [[1 3 2 3 3 4]] true Y: y_data prediction str: ilello\n",
      "23 loss: 0.6381519436836243 prediction  [[1 3 2 3 3 4]] true Y: y_data prediction str: ilello\n",
      "24 loss: 0.6326725482940674 prediction  [[1 3 2 3 3 4]] true Y: y_data prediction str: ilello\n",
      "25 loss: 0.6256729960441589 prediction  [[1 3 2 3 3 4]] true Y: y_data prediction str: ilello\n",
      "26 loss: 0.6215081810951233 prediction  [[1 3 2 3 3 4]] true Y: y_data prediction str: ilello\n",
      "27 loss: 0.6167057156562805 prediction  [[1 3 2 3 3 4]] true Y: y_data prediction str: ilello\n",
      "28 loss: 0.6099365949630737 prediction  [[1 3 2 3 3 4]] true Y: y_data prediction str: ilello\n",
      "29 loss: 0.6030199527740479 prediction  [[1 3 2 3 3 4]] true Y: y_data prediction str: ilello\n",
      "30 loss: 0.5992398858070374 prediction  [[1 3 2 3 3 4]] true Y: y_data prediction str: ilello\n",
      "31 loss: 0.5964338183403015 prediction  [[1 3 2 3 3 4]] true Y: y_data prediction str: ilello\n",
      "32 loss: 0.5916648507118225 prediction  [[1 3 2 3 3 4]] true Y: y_data prediction str: ilello\n",
      "33 loss: 0.5881564617156982 prediction  [[1 3 2 3 3 4]] true Y: y_data prediction str: ilello\n",
      "34 loss: 0.5854341387748718 prediction  [[1 3 2 3 3 4]] true Y: y_data prediction str: ilello\n",
      "35 loss: 0.5813192129135132 prediction  [[1 3 2 3 3 4]] true Y: y_data prediction str: ilello\n",
      "36 loss: 0.5761869549751282 prediction  [[1 3 2 3 3 4]] true Y: y_data prediction str: ilello\n",
      "37 loss: 0.573492169380188 prediction  [[1 3 2 3 3 4]] true Y: y_data prediction str: ilello\n",
      "38 loss: 0.5727558732032776 prediction  [[1 3 2 3 3 4]] true Y: y_data prediction str: ilello\n",
      "39 loss: 0.5682087540626526 prediction  [[1 3 2 3 3 4]] true Y: y_data prediction str: ilello\n",
      "40 loss: 0.5656264424324036 prediction  [[1 3 2 3 3 4]] true Y: y_data prediction str: ilello\n",
      "41 loss: 0.5647333860397339 prediction  [[1 3 2 3 3 4]] true Y: y_data prediction str: ilello\n",
      "42 loss: 0.5629469752311707 prediction  [[1 3 2 3 3 4]] true Y: y_data prediction str: ilello\n",
      "43 loss: 0.5603768229484558 prediction  [[1 3 2 3 3 4]] true Y: y_data prediction str: ilello\n",
      "44 loss: 0.5588172078132629 prediction  [[1 3 2 3 3 4]] true Y: y_data prediction str: ilello\n",
      "45 loss: 0.558463454246521 prediction  [[1 3 2 3 3 4]] true Y: y_data prediction str: ilello\n",
      "46 loss: 0.5565399527549744 prediction  [[1 3 2 3 3 4]] true Y: y_data prediction str: ilello\n",
      "47 loss: 0.5548031330108643 prediction  [[1 3 2 3 3 4]] true Y: y_data prediction str: ilello\n",
      "48 loss: 0.5542734861373901 prediction  [[1 3 2 3 3 4]] true Y: y_data prediction str: ilello\n",
      "49 loss: 0.553443968296051 prediction  [[1 3 2 3 3 4]] true Y: y_data prediction str: ilello\n",
      "50 loss: 0.552009642124176 prediction  [[1 3 2 3 3 4]] true Y: y_data prediction str: ilello\n",
      "51 loss: 0.5510938167572021 prediction  [[1 3 2 3 3 4]] true Y: y_data prediction str: ilello\n",
      "52 loss: 0.5506716370582581 prediction  [[1 3 2 3 3 4]] true Y: y_data prediction str: ilello\n",
      "53 loss: 0.5493642687797546 prediction  [[1 3 2 3 3 4]] true Y: y_data prediction str: ilello\n",
      "54 loss: 0.5483369827270508 prediction  [[1 3 2 3 3 4]] true Y: y_data prediction str: ilello\n",
      "55 loss: 0.5478050112724304 prediction  [[1 3 2 3 3 4]] true Y: y_data prediction str: ilello\n",
      "56 loss: 0.5469382405281067 prediction  [[1 3 2 3 3 4]] true Y: y_data prediction str: ilello\n",
      "57 loss: 0.5459227561950684 prediction  [[1 3 2 3 3 4]] true Y: y_data prediction str: ilello\n",
      "58 loss: 0.5454025864601135 prediction  [[1 3 2 3 3 4]] true Y: y_data prediction str: ilello\n",
      "59 loss: 0.5448522567749023 prediction  [[1 3 2 3 3 4]] true Y: y_data prediction str: ilello\n",
      "60 loss: 0.543980598449707 prediction  [[1 3 2 3 3 4]] true Y: y_data prediction str: ilello\n",
      "61 loss: 0.5434584021568298 prediction  [[1 3 2 3 3 4]] true Y: y_data prediction str: ilello\n",
      "62 loss: 0.5429834723472595 prediction  [[1 3 2 3 3 4]] true Y: y_data prediction str: ilello\n",
      "63 loss: 0.5422742962837219 prediction  [[1 3 2 3 3 4]] true Y: y_data prediction str: ilello\n",
      "64 loss: 0.5417041778564453 prediction  [[1 3 2 3 3 4]] true Y: y_data prediction str: ilello\n",
      "65 loss: 0.5413309931755066 prediction  [[1 3 2 3 3 4]] true Y: y_data prediction str: ilello\n",
      "66 loss: 0.5407489538192749 prediction  [[1 3 2 3 3 4]] true Y: y_data prediction str: ilello\n",
      "67 loss: 0.5402577519416809 prediction  [[1 3 2 3 3 4]] true Y: y_data prediction str: ilello\n",
      "68 loss: 0.5399190187454224 prediction  [[1 3 2 3 3 4]] true Y: y_data prediction str: ilello\n",
      "69 loss: 0.5394624471664429 prediction  [[1 3 2 3 3 4]] true Y: y_data prediction str: ilello\n",
      "70 loss: 0.539009153842926 prediction  [[1 3 2 3 3 4]] true Y: y_data prediction str: ilello\n",
      "71 loss: 0.5387027263641357 prediction  [[1 3 2 3 3 4]] true Y: y_data prediction str: ilello\n",
      "72 loss: 0.5383160710334778 prediction  [[1 3 2 3 3 4]] true Y: y_data prediction str: ilello\n",
      "73 loss: 0.5379176735877991 prediction  [[1 3 2 3 3 4]] true Y: y_data prediction str: ilello\n",
      "74 loss: 0.5376289486885071 prediction  [[1 3 2 3 3 4]] true Y: y_data prediction str: ilello\n",
      "75 loss: 0.5372946858406067 prediction  [[1 3 2 3 3 4]] true Y: y_data prediction str: ilello\n",
      "76 loss: 0.5369362831115723 prediction  [[1 3 2 3 3 4]] true Y: y_data prediction str: ilello\n",
      "77 loss: 0.5366637706756592 prediction  [[1 3 2 3 3 4]] true Y: y_data prediction str: ilello\n",
      "78 loss: 0.5363660454750061 prediction  [[1 3 2 3 3 4]] true Y: y_data prediction str: ilello\n",
      "79 loss: 0.5360466837882996 prediction  [[1 3 2 3 3 4]] true Y: y_data prediction str: ilello\n",
      "80 loss: 0.535793125629425 prediction  [[1 3 2 3 3 4]] true Y: y_data prediction str: ilello\n",
      "81 loss: 0.5355224013328552 prediction  [[1 3 2 3 3 4]] true Y: y_data prediction str: ilello\n",
      "82 loss: 0.535235583782196 prediction  [[1 3 2 3 3 4]] true Y: y_data prediction str: ilello\n",
      "83 loss: 0.5349992513656616 prediction  [[1 3 2 3 3 4]] true Y: y_data prediction str: ilello\n",
      "84 loss: 0.5347511172294617 prediction  [[1 3 2 3 3 4]] true Y: y_data prediction str: ilello\n",
      "85 loss: 0.5344938635826111 prediction  [[1 3 2 3 3 4]] true Y: y_data prediction str: ilello\n",
      "86 loss: 0.5342755317687988 prediction  [[1 3 2 3 3 4]] true Y: y_data prediction str: ilello\n",
      "87 loss: 0.534046471118927 prediction  [[1 3 2 3 3 4]] true Y: y_data prediction str: ilello\n",
      "88 loss: 0.5338149666786194 prediction  [[1 3 2 3 3 4]] true Y: y_data prediction str: ilello\n",
      "89 loss: 0.5336135625839233 prediction  [[1 3 2 3 3 4]] true Y: y_data prediction str: ilello\n",
      "90 loss: 0.5334025025367737 prediction  [[1 3 2 3 3 4]] true Y: y_data prediction str: ilello\n",
      "91 loss: 0.5331950783729553 prediction  [[1 3 2 3 3 4]] true Y: y_data prediction str: ilello\n",
      "92 loss: 0.5330095291137695 prediction  [[1 3 2 3 3 4]] true Y: y_data prediction str: ilello\n",
      "93 loss: 0.5328157544136047 prediction  [[1 3 2 3 3 4]] true Y: y_data prediction str: ilello\n",
      "94 loss: 0.5326293110847473 prediction  [[1 3 2 3 3 4]] true Y: y_data prediction str: ilello\n",
      "95 loss: 0.5324582457542419 prediction  [[1 3 2 3 3 4]] true Y: y_data prediction str: ilello\n",
      "96 loss: 0.5322802662849426 prediction  [[1 3 2 3 3 4]] true Y: y_data prediction str: ilello\n",
      "97 loss: 0.5321123600006104 prediction  [[1 3 2 3 3 4]] true Y: y_data prediction str: ilello\n",
      "98 loss: 0.5319532752037048 prediction  [[1 3 2 3 3 4]] true Y: y_data prediction str: ilello\n",
      "99 loss: 0.5317898392677307 prediction  [[1 3 2 3 3 4]] true Y: y_data prediction str: ilello\n"
     ]
    }
   ],
   "source": [
    "for i in range(100):\n",
    "    optimizer.zero_grad()\n",
    "    outputs, _status = rnn(X)\n",
    "    loss = criterion(outputs.view(-1,input_size),Y.view(-1))\n",
    "    loss.backward()\n",
    "    optimizer.step()\n",
    "    result = outputs.data.numpy().argmax(axis=2)\n",
    "    result_str=''.join([char_set[c] for c in np.squeeze(result)])\n",
    "    print(i,\"loss:\",loss.item(),\"prediction \",result,\"true Y: y_data\",\"prediction str:\", result_str)"
   ]
  },
  {
   "cell_type": "code",
   "execution_count": null,
   "id": "executive-vermont",
   "metadata": {},
   "outputs": [],
   "source": []
  },
  {
   "cell_type": "code",
   "execution_count": null,
   "id": "automatic-center",
   "metadata": {},
   "outputs": [],
   "source": []
  }
 ],
 "metadata": {
  "kernelspec": {
   "display_name": "Python 3",
   "language": "python",
   "name": "python3"
  },
  "language_info": {
   "codemirror_mode": {
    "name": "ipython",
    "version": 3
   },
   "file_extension": ".py",
   "mimetype": "text/x-python",
   "name": "python",
   "nbconvert_exporter": "python",
   "pygments_lexer": "ipython3",
   "version": "3.8.5"
  }
 },
 "nbformat": 4,
 "nbformat_minor": 5
}
