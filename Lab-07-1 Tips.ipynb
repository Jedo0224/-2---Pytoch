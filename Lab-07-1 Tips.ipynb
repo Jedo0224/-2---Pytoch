{
 "cells": [
  {
   "cell_type": "code",
   "execution_count": 1,
   "id": "fiscal-interference",
   "metadata": {},
   "outputs": [],
   "source": [
    "# # Likelihood (가능도) - 압정을 던졌을때 떨어지는 경우 ㅗ(class_1) for ㅜ(class_2) - 예측하여 분포를 확인하고싶다\n",
    "# 0과 1의 베르누이 분포를 이용 -> 실제 압정을 던져본다 \n",
    "\n",
    "# class_1을 던졌을 때 obsevation\n",
    "# n(던진횟수)= 100 \n",
    "# k(class_1가 나올 확률) = 27\n",
    "\n",
    "# y = n!/k!*(n-k)! * theta^k*(1-theta)^n-k\n",
    "\n",
    "# obsevation을 가장 잘 설명하는(y를 가장 크게 만드는 or minimizer) theta를 찾아내는 과정.\n",
    "\n"
   ]
  },
  {
   "cell_type": "code",
   "execution_count": 2,
   "id": "stuffed-fundamental",
   "metadata": {},
   "outputs": [],
   "source": [
    "# Training Set = 0.8\n",
    "# Dev Set(Validation Set) = 0 ~ 0.1 -> Test Set에 대한 overfitting 방지 / Dev Set으로 traing 시킨 후 Test Set으로 성능을 측정했을 때 보다 나은 결과 획득\n",
    "# Test Set = 0.1 ~ 0.2\n",
    "\n",
    "# overfitting 방지 1)more data, 2)less features, 3)Regularization\n",
    "\n",
    "# Regularization\n",
    "# Early stopping : validation loss가 더 이상 낮아지지 않을 때 멈춘다.\n",
    "# Reducing Network Size : 학습량 줄이기\n",
    "# weight decay : weight parameter 조정\n",
    "# Dropout\n",
    "# Batcj Normalization\n"
   ]
  },
  {
   "cell_type": "markdown",
   "id": "stock-sydney",
   "metadata": {},
   "source": [
    "# Basic Approach to train dnn"
   ]
  },
  {
   "cell_type": "code",
   "execution_count": 3,
   "id": "careful-departure",
   "metadata": {},
   "outputs": [],
   "source": [
    "# 1) Make a neural network architecture. (input size , output size => fix)\n",
    "# 2) Train and check that model is over-fitted (dev up, training down)\n",
    "#     a. if it is not, increase the momdel size (deeper and wider)\n",
    "#     b. if it is, add regularization, such as drop-out, batch-normalization\n",
    "# 3) Repeat from step-2"
   ]
  },
  {
   "cell_type": "code",
   "execution_count": null,
   "id": "future-objective",
   "metadata": {},
   "outputs": [],
   "source": []
  },
  {
   "cell_type": "code",
   "execution_count": 4,
   "id": "familiar-extension",
   "metadata": {},
   "outputs": [],
   "source": [
    "import torch\n",
    "import torch.nn as nn \n",
    "import torch.nn.functional as F\n",
    "import torch.optim as optim "
   ]
  },
  {
   "cell_type": "code",
   "execution_count": 5,
   "id": "animated-exhibition",
   "metadata": {},
   "outputs": [
    {
     "data": {
      "text/plain": [
       "<torch._C.Generator at 0x144be6ea450>"
      ]
     },
     "execution_count": 5,
     "metadata": {},
     "output_type": "execute_result"
    }
   ],
   "source": [
    "torch.manual_seed(1)"
   ]
  },
  {
   "cell_type": "code",
   "execution_count": 6,
   "id": "fifteen-society",
   "metadata": {},
   "outputs": [],
   "source": [
    "x_train = torch.FloatTensor([[1,2,1],\n",
    "                             [1,3,2],\n",
    "                             [1,3,4],\n",
    "                             [1,5,5],\n",
    "                             [1,7,5],\n",
    "                             [1,2,5],\n",
    "                             [1,6,6],\n",
    "                             [1,7,7]]) \n",
    "y_train = torch.LongTensor([2,2,2,1,1,1,0,0])"
   ]
  },
  {
   "cell_type": "code",
   "execution_count": 7,
   "id": "minor-necklace",
   "metadata": {},
   "outputs": [],
   "source": [
    "x_test = torch.FloatTensor([[2,1,1],[3,1,2],[3,3,4]])\n",
    "y_test = torch.LongTensor([2,2,2])"
   ]
  },
  {
   "cell_type": "code",
   "execution_count": 8,
   "id": "disturbed-detroit",
   "metadata": {},
   "outputs": [],
   "source": [
    "class SoftmaxClassifierModel(nn.Module):\n",
    "    def __init__(self):\n",
    "        super().__init__()\n",
    "        self.linear = nn.Linear(3,3)\n",
    "    def forward(self, x):\n",
    "        return self.linear(x)"
   ]
  },
  {
   "cell_type": "code",
   "execution_count": 9,
   "id": "exposed-simple",
   "metadata": {},
   "outputs": [],
   "source": [
    "model = SoftmaxClassifierModel()"
   ]
  },
  {
   "cell_type": "code",
   "execution_count": 10,
   "id": "laden-occupation",
   "metadata": {},
   "outputs": [
    {
     "data": {
      "text/plain": [
       "<generator object Module.parameters at 0x00000144C05447B0>"
      ]
     },
     "execution_count": 10,
     "metadata": {},
     "output_type": "execute_result"
    }
   ],
   "source": [
    "model.parameters()"
   ]
  },
  {
   "cell_type": "code",
   "execution_count": 11,
   "id": "sudden-stack",
   "metadata": {},
   "outputs": [],
   "source": [
    "optimizer = optim.SGD(model.parameters(),lr=0.1)"
   ]
  },
  {
   "cell_type": "code",
   "execution_count": 12,
   "id": "tropical-request",
   "metadata": {},
   "outputs": [],
   "source": [
    "def train(model, optimizer, x_train, y_train): #x_train = (m,3)\n",
    "    nb_epochs = 20 \n",
    "    for epoch in range(nb_epochs):\n",
    "        prediction = model(x_train) # prediction = (m,3)\n",
    "        cost = F.cross_entropy(prediction, y_train) # y_train = (m,3)\n",
    "        \n",
    "        optimizer.zero_grad()\n",
    "        cost.backward()\n",
    "        optimizer.step()\n",
    "        \n",
    "        print('Epoch {:4d}/{} Cost: {:.6f}'.format(epoch, nb_epochs,cost.item()))"
   ]
  },
  {
   "cell_type": "code",
   "execution_count": 13,
   "id": "facial-state",
   "metadata": {},
   "outputs": [],
   "source": [
    "def test(model, optimizer, x_test, y_test): # x_test = (m',3)\n",
    "    prediction = model(x_test)\n",
    "    predicted_classes = prediction.max(1)[1] #max 복습 , prediction = (m',3)\n",
    "    correct_count = (predicted_classes == y_test).sum().item()\n",
    "    cost = F.cross_entropy(prediction,y_test)\n",
    "    \n",
    "    print('Accuracy: {}% Cost: {:.6f}'.format(correct_count / len(y_test) * 100, cost.item()))"
   ]
  },
  {
   "cell_type": "code",
   "execution_count": 14,
   "id": "mounted-voltage",
   "metadata": {},
   "outputs": [
    {
     "name": "stdout",
     "output_type": "stream",
     "text": [
      "Epoch    0/20 Cost: 2.203667\n",
      "Epoch    1/20 Cost: 1.199645\n",
      "Epoch    2/20 Cost: 1.142985\n",
      "Epoch    3/20 Cost: 1.117769\n",
      "Epoch    4/20 Cost: 1.100901\n",
      "Epoch    5/20 Cost: 1.089523\n",
      "Epoch    6/20 Cost: 1.079872\n",
      "Epoch    7/20 Cost: 1.071320\n",
      "Epoch    8/20 Cost: 1.063325\n",
      "Epoch    9/20 Cost: 1.055720\n",
      "Epoch   10/20 Cost: 1.048378\n",
      "Epoch   11/20 Cost: 1.041245\n",
      "Epoch   12/20 Cost: 1.034285\n",
      "Epoch   13/20 Cost: 1.027478\n",
      "Epoch   14/20 Cost: 1.020813\n",
      "Epoch   15/20 Cost: 1.014279\n",
      "Epoch   16/20 Cost: 1.007872\n",
      "Epoch   17/20 Cost: 1.001586\n",
      "Epoch   18/20 Cost: 0.995419\n",
      "Epoch   19/20 Cost: 0.989365\n"
     ]
    }
   ],
   "source": [
    "train(model,optimizer, x_train, y_train)"
   ]
  },
  {
   "cell_type": "code",
   "execution_count": 15,
   "id": "owned-reliance",
   "metadata": {},
   "outputs": [
    {
     "name": "stdout",
     "output_type": "stream",
     "text": [
      "Accuracy: 0.0% Cost: 1.425844\n"
     ]
    }
   ],
   "source": [
    "test(model,optimizer, x_test, y_test) # overfitting"
   ]
  },
  {
   "cell_type": "code",
   "execution_count": 16,
   "id": "forward-privacy",
   "metadata": {},
   "outputs": [],
   "source": [
    "model = SoftmaxClassifierModel()"
   ]
  },
  {
   "cell_type": "code",
   "execution_count": 17,
   "id": "defensive-lyric",
   "metadata": {},
   "outputs": [],
   "source": [
    "optimizer = optim.SGD(model.parameters(),lr=1e5)"
   ]
  },
  {
   "cell_type": "code",
   "execution_count": 18,
   "id": "radio-minority",
   "metadata": {},
   "outputs": [
    {
     "name": "stdout",
     "output_type": "stream",
     "text": [
      "Epoch    0/20 Cost: 1.280268\n",
      "Epoch    1/20 Cost: 976950.812500\n",
      "Epoch    2/20 Cost: 1279135.125000\n",
      "Epoch    3/20 Cost: 1198379.000000\n",
      "Epoch    4/20 Cost: 1098825.875000\n",
      "Epoch    5/20 Cost: 1968197.625000\n",
      "Epoch    6/20 Cost: 284763.250000\n",
      "Epoch    7/20 Cost: 1532260.125000\n",
      "Epoch    8/20 Cost: 1651504.000000\n",
      "Epoch    9/20 Cost: 521878.437500\n",
      "Epoch   10/20 Cost: 1397263.250000\n",
      "Epoch   11/20 Cost: 750986.250000\n",
      "Epoch   12/20 Cost: 918691.500000\n",
      "Epoch   13/20 Cost: 1487888.250000\n",
      "Epoch   14/20 Cost: 1582260.125000\n",
      "Epoch   15/20 Cost: 685818.062500\n",
      "Epoch   16/20 Cost: 1140048.750000\n",
      "Epoch   17/20 Cost: 940566.500000\n",
      "Epoch   18/20 Cost: 931638.250000\n",
      "Epoch   19/20 Cost: 1971322.625000\n"
     ]
    }
   ],
   "source": [
    "train(model,optimizer, x_train, y_train) # learning rate이 너무 커 cost 값이 발산함."
   ]
  },
  {
   "cell_type": "code",
   "execution_count": 19,
   "id": "upper-separation",
   "metadata": {},
   "outputs": [
    {
     "name": "stdout",
     "output_type": "stream",
     "text": [
      "Epoch    0/20 Cost: 200090.937500\n",
      "Epoch    1/20 Cost: 1105673.750000\n",
      "Epoch    2/20 Cost: 646816.500000\n",
      "Epoch    3/20 Cost: 1064450.750000\n",
      "Epoch    4/20 Cost: 1935385.125000\n",
      "Epoch    5/20 Cost: 307693.093750\n",
      "Epoch    6/20 Cost: 1494736.250000\n",
      "Epoch    7/20 Cost: 668691.500000\n",
      "Epoch    8/20 Cost: 661218.437500\n",
      "Epoch    9/20 Cost: 541635.062500\n",
      "Epoch   10/20 Cost: 1676443.125000\n",
      "Epoch   11/20 Cost: 261552.109375\n",
      "Epoch   12/20 Cost: 1099382.750000\n",
      "Epoch   13/20 Cost: 818691.500000\n",
      "Epoch   14/20 Cost: 1115072.625000\n",
      "Epoch   15/20 Cost: 1478513.250000\n",
      "Epoch   16/20 Cost: 738486.250000\n",
      "Epoch   17/20 Cost: 827507.750000\n",
      "Epoch   18/20 Cost: 643767.250000\n",
      "Epoch   19/20 Cost: 135823.000000\n"
     ]
    }
   ],
   "source": [
    "train(model,optimizer, x_train, y_train) # learning rate이 너무 커 cost 값이 변하지 않음."
   ]
  },
  {
   "cell_type": "code",
   "execution_count": 20,
   "id": "universal-webster",
   "metadata": {},
   "outputs": [],
   "source": [
    "# 따라서 적절한 숫자로 시작해 cost가 발산하면 작게, 줄지않으면 크게 조정하자."
   ]
  },
  {
   "cell_type": "code",
   "execution_count": 21,
   "id": "knowing-tolerance",
   "metadata": {},
   "outputs": [
    {
     "name": "stdout",
     "output_type": "stream",
     "text": [
      "Epoch    0/20 Cost: 3.187324\n",
      "Epoch    1/20 Cost: 1.334308\n",
      "Epoch    2/20 Cost: 1.047911\n",
      "Epoch    3/20 Cost: 0.996042\n",
      "Epoch    4/20 Cost: 0.985740\n",
      "Epoch    5/20 Cost: 0.977224\n",
      "Epoch    6/20 Cost: 0.970065\n",
      "Epoch    7/20 Cost: 0.963589\n",
      "Epoch    8/20 Cost: 0.957561\n",
      "Epoch    9/20 Cost: 0.951825\n",
      "Epoch   10/20 Cost: 0.946302\n",
      "Epoch   11/20 Cost: 0.940942\n",
      "Epoch   12/20 Cost: 0.935719\n",
      "Epoch   13/20 Cost: 0.930612\n",
      "Epoch   14/20 Cost: 0.925613\n",
      "Epoch   15/20 Cost: 0.920711\n",
      "Epoch   16/20 Cost: 0.915902\n",
      "Epoch   17/20 Cost: 0.911182\n",
      "Epoch   18/20 Cost: 0.906547\n",
      "Epoch   19/20 Cost: 0.901994\n"
     ]
    }
   ],
   "source": [
    "model = SoftmaxClassifierModel() \n",
    "optimizer = optim.SGD(model.parameters(),lr=1e-1) # 0.1\n",
    "train(model,optimizer, x_train, y_train)"
   ]
  },
  {
   "cell_type": "code",
   "execution_count": null,
   "id": "thirty-helmet",
   "metadata": {},
   "outputs": [],
   "source": []
  },
  {
   "cell_type": "markdown",
   "id": "pressed-pillow",
   "metadata": {},
   "source": [
    "# Data Preprocessing "
   ]
  },
  {
   "cell_type": "code",
   "execution_count": 43,
   "id": "continued-adventure",
   "metadata": {},
   "outputs": [],
   "source": [
    "x_train = torch.FloatTensor([[73, 80, 75], \n",
    "                           [93,88,93],\n",
    "                           [89,91,90],\n",
    "                           [96,98,100],\n",
    "                           [73,66,70]])\n",
    "y_train = torch.FloatTensor([[152],[185],[180],[196],[142]]) \n",
    "\n",
    "#x_train = (m,3)\n",
    "#y_train = (m,3)"
   ]
  },
  {
   "cell_type": "code",
   "execution_count": 44,
   "id": "magnetic-correspondence",
   "metadata": {},
   "outputs": [],
   "source": [
    "# Standardization 정규분포화\n",
    "mu = x_train.mean(dim=0)\n"
   ]
  },
  {
   "cell_type": "code",
   "execution_count": 45,
   "id": "specific-productivity",
   "metadata": {},
   "outputs": [],
   "source": [
    "sigma = x_train.std(dim=0)"
   ]
  },
  {
   "cell_type": "code",
   "execution_count": 46,
   "id": "saved-sherman",
   "metadata": {},
   "outputs": [],
   "source": [
    "norm_x_train = (x_train -mu) / sigma"
   ]
  },
  {
   "cell_type": "code",
   "execution_count": 47,
   "id": "middle-principal",
   "metadata": {},
   "outputs": [
    {
     "name": "stdout",
     "output_type": "stream",
     "text": [
      "tensor([[-1.0674, -0.3758, -0.8398],\n",
      "        [ 0.7418,  0.2778,  0.5863],\n",
      "        [ 0.3799,  0.5229,  0.3486],\n",
      "        [ 1.0132,  1.0948,  1.1409],\n",
      "        [-1.0674, -1.5197, -1.2360]])\n"
     ]
    }
   ],
   "source": [
    "print(norm_x_train)"
   ]
  },
  {
   "cell_type": "code",
   "execution_count": 48,
   "id": "optimum-flashing",
   "metadata": {},
   "outputs": [],
   "source": [
    "class MultivariateLinearRegressionModel(nn.Module):\n",
    "    def __init__(self):\n",
    "        super().__init__()\n",
    "        self.linear = nn.Linear(3,1)\n",
    "    def forward(self, x):\n",
    "        return self.linear(x)"
   ]
  },
  {
   "cell_type": "code",
   "execution_count": 49,
   "id": "central-volunteer",
   "metadata": {},
   "outputs": [],
   "source": [
    "model = MultivariateLinearRegressionModel()"
   ]
  },
  {
   "cell_type": "code",
   "execution_count": 50,
   "id": "micro-monthly",
   "metadata": {},
   "outputs": [],
   "source": [
    "optimizer = optim.SGD(model.parameters(),lr=1e-1)"
   ]
  },
  {
   "cell_type": "code",
   "execution_count": 51,
   "id": "indian-allocation",
   "metadata": {},
   "outputs": [],
   "source": [
    "def train(model, optimizer, x_train, y_train):\n",
    "    nb_epochs = 20\n",
    "    for epoch in range(nb_epochs):\n",
    "        \n",
    "        prediction = model(x_train) # x_train = (m,3) , prediction= (m,1)\n",
    "        \n",
    "        cost = F.mse_loss(prediction, y_train) \n",
    "        \n",
    "        optimizer.zero_grad()\n",
    "        cost.backward()\n",
    "        optimizer.step()\n",
    "        \n",
    "        print('Epoch {:4d}/{} Cost: {:.6f}'.format(epoch, nb_epochs, cost.item()))"
   ]
  },
  {
   "cell_type": "code",
   "execution_count": null,
   "id": "informal-bracket",
   "metadata": {},
   "outputs": [],
   "source": []
  },
  {
   "cell_type": "code",
   "execution_count": 52,
   "id": "substantial-budapest",
   "metadata": {},
   "outputs": [
    {
     "name": "stdout",
     "output_type": "stream",
     "text": [
      "Epoch    0/20 Cost: 29615.740234\n",
      "Epoch    1/20 Cost: 18803.878906\n",
      "Epoch    2/20 Cost: 11991.030273\n",
      "Epoch    3/20 Cost: 7661.869629\n",
      "Epoch    4/20 Cost: 4900.236328\n",
      "Epoch    5/20 Cost: 3135.413574\n",
      "Epoch    6/20 Cost: 2006.681641\n",
      "Epoch    7/20 Cost: 1284.504517\n",
      "Epoch    8/20 Cost: 822.366211\n",
      "Epoch    9/20 Cost: 526.605713\n",
      "Epoch   10/20 Cost: 337.314728\n",
      "Epoch   11/20 Cost: 216.160797\n",
      "Epoch   12/20 Cost: 138.613449\n",
      "Epoch   13/20 Cost: 88.974701\n",
      "Epoch   14/20 Cost: 57.197399\n",
      "Epoch   15/20 Cost: 36.851803\n",
      "Epoch   16/20 Cost: 23.822887\n",
      "Epoch   17/20 Cost: 15.476825\n",
      "Epoch   18/20 Cost: 10.128090\n",
      "Epoch   19/20 Cost: 6.697937\n"
     ]
    }
   ],
   "source": [
    "train(model,optimizer, norm_x_train, y_train)"
   ]
  },
  {
   "cell_type": "code",
   "execution_count": 53,
   "id": "specialized-louisiana",
   "metadata": {},
   "outputs": [],
   "source": [
    "# 각 Tensor의 값이 차이가 클때  더 큰 쪽의 ELEMENT에 대해서만 학습을 진행할 수 있기 때문에 정규화 해준다."
   ]
  },
  {
   "cell_type": "code",
   "execution_count": null,
   "id": "saving-potato",
   "metadata": {},
   "outputs": [],
   "source": []
  }
 ],
 "metadata": {
  "kernelspec": {
   "display_name": "Python 3",
   "language": "python",
   "name": "python3"
  },
  "language_info": {
   "codemirror_mode": {
    "name": "ipython",
    "version": 3
   },
   "file_extension": ".py",
   "mimetype": "text/x-python",
   "name": "python",
   "nbconvert_exporter": "python",
   "pygments_lexer": "ipython3",
   "version": "3.8.5"
  }
 },
 "nbformat": 4,
 "nbformat_minor": 5
}
