{
 "cells": [
  {
   "cell_type": "code",
   "execution_count": 1,
   "id": "supposed-float",
   "metadata": {},
   "outputs": [],
   "source": [
    "# What is MNIST?\n",
    "# MNIST : handwritten digits dataset 손으로 쓴 우편번호를 자동으로 인식하고자 만들어짐\n"
   ]
  },
  {
   "cell_type": "code",
   "execution_count": null,
   "id": "structural-denmark",
   "metadata": {},
   "outputs": [],
   "source": []
  },
  {
   "cell_type": "code",
   "execution_count": null,
   "id": "emotional-process",
   "metadata": {},
   "outputs": [],
   "source": []
  },
  {
   "cell_type": "markdown",
   "id": "fixed-fraction",
   "metadata": {},
   "source": [
    "# Reading data"
   ]
  },
  {
   "cell_type": "code",
   "execution_count": 2,
   "id": "agricultural-avenue",
   "metadata": {},
   "outputs": [],
   "source": [
    "import torch\n",
    "import torchvision.datasets as dsets\n",
    "import torchvision.transforms as transforms\n",
    "import matplotlib.pyplot as plt\n",
    "import random\n"
   ]
  },
  {
   "cell_type": "code",
   "execution_count": 3,
   "id": "maritime-ethiopia",
   "metadata": {},
   "outputs": [],
   "source": [
    "device = 'cuda' if torch.cuda.is_available() else 'cpu'\n",
    "\n",
    "# for reproducibility\n",
    "random.seed(777)\n",
    "torch.manual_seed(777)\n",
    "if device == 'cuda':\n",
    "    torch.cuda.manual_seed_all(777)\n",
    "    \n",
    "    \n",
    "training_epochs = 15\n",
    "batch_size = 100"
   ]
  },
  {
   "cell_type": "code",
   "execution_count": 4,
   "id": "unable-benchmark",
   "metadata": {},
   "outputs": [],
   "source": [
    "# ToTensor : img파일을 pytorch 형태에 맞게 재배치, [H,W,C] -> [C,H,W]"
   ]
  },
  {
   "cell_type": "code",
   "execution_count": 6,
   "id": "wireless-bishop",
   "metadata": {},
   "outputs": [],
   "source": [
    "# one epoch : 전체가 한번 학습을 하였다. (6만의 sample을 한번 학습했다 -> one epoch)\n",
    "# batch size : 가능하다면 6만장을 한꺼번에 사용하면 좋겠지만, 너무 많은 cpu 용량을 사용하므로 잘라서 사용한다.\n",
    "# iterations : 학습 횟수\n",
    "\n",
    "# if you have 1000 training -> batch size : 500, iterations: 2 , one epoch "
   ]
  },
  {
   "cell_type": "code",
   "execution_count": 25,
   "id": "hawaiian-suspect",
   "metadata": {},
   "outputs": [],
   "source": [
    "mnist_train = dsets.MNIST(root=\"MNIST_data/\",train=True, transform = transforms.ToTensor(),download=True)\n"
   ]
  },
  {
   "cell_type": "code",
   "execution_count": 26,
   "id": "sharing-sharing",
   "metadata": {},
   "outputs": [],
   "source": [
    "mnist_test = dsets.MNIST(root=\"MNIST_data/\",train=False, transform = transforms.ToTensor(),download=True)\n"
   ]
  },
  {
   "cell_type": "code",
   "execution_count": 21,
   "id": "african-jaguar",
   "metadata": {},
   "outputs": [],
   "source": [
    "data_loader = torch.utils.data.DataLoader(dataset=mnist_train,\n",
    "                                          batch_size = batch_size,\n",
    "                                          shuffle=True,\n",
    "                                          drop_last=True)"
   ]
  },
  {
   "cell_type": "code",
   "execution_count": null,
   "id": "fifteen-terminology",
   "metadata": {},
   "outputs": [],
   "source": []
  },
  {
   "cell_type": "code",
   "execution_count": 22,
   "id": "auburn-driving",
   "metadata": {},
   "outputs": [],
   "source": [
    "linear = torch.nn.Linear(784,10, bias=True).to(device)\n",
    "\n",
    "training_epochs = 15\n",
    "batch_size = 100\n",
    "\n",
    "criterion = torch.nn.CrossEntropyLoss().to(device)\n",
    "optimizer = torch.optim.SGD(linear.parameters(),lr=0.1)"
   ]
  },
  {
   "cell_type": "code",
   "execution_count": 23,
   "id": "greatest-establishment",
   "metadata": {},
   "outputs": [
    {
     "ename": "SyntaxError",
     "evalue": "invalid syntax (<ipython-input-23-f3cff3b7e934>, line 5)",
     "output_type": "error",
     "traceback": [
      "\u001b[1;36m  File \u001b[1;32m\"<ipython-input-23-f3cff3b7e934>\"\u001b[1;36m, line \u001b[1;32m5\u001b[0m\n\u001b[1;33m    for X, Y in data_loade\u001b[0m\n\u001b[1;37m                          ^\u001b[0m\n\u001b[1;31mSyntaxError\u001b[0m\u001b[1;31m:\u001b[0m invalid syntax\n"
     ]
    }
   ],
   "source": [
    "for epoch in range(training_epochs):\n",
    "    avg_cost = 0\n",
    "    total_batch = len(data_loader)\n",
    "\n",
    "    for X, Y in data_loade\n",
    "        X = X.view(-1, 28 * 28).to(device)\n",
    "        Y = Y.to(device)\n",
    "\n",
    "        optimizer.zero_grad()\n",
    "        hypothesis = linear(X)\n",
    "        cost = criterion(hypothesis, Y)\n",
    "        cost.backward()\n",
    "        optimizer.step()\n",
    "\n",
    "        avg_cost += cost / total_batch\n",
    "\n",
    "    print('Epoch:', '%04d' % (epoch + 1), 'cost =', '{:.9f}'.format(avg_cost))\n",
    "\n",
    "print('Learning finished')"
   ]
  },
  {
   "cell_type": "code",
   "execution_count": 28,
   "id": "legislative-assist",
   "metadata": {},
   "outputs": [
    {
     "name": "stdout",
     "output_type": "stream",
     "text": [
      "Accuracy: 0.1800999939441681\n"
     ]
    }
   ],
   "source": [
    "with torch.no_grad():\n",
    "    X_test=  mnist_test.test_data.view(-1,28*28).float().to(device)\n",
    "    Y_test= mnist_test.test_labels.to(device)\n",
    "    \n",
    "    prediction = linear(X_test)\n",
    "    correct_prediction = torch.argmax(prediction,1) == Y_test\n",
    "    accuracy = correct_prediction.float().mean()\n",
    "    print(\"Accuracy:\", accuracy.item())"
   ]
  },
  {
   "cell_type": "code",
   "execution_count": null,
   "id": "copyrighted-cosmetic",
   "metadata": {},
   "outputs": [],
   "source": []
  },
  {
   "cell_type": "code",
   "execution_count": null,
   "id": "protected-section",
   "metadata": {},
   "outputs": [],
   "source": [
    "r = random.randint(0, len(mnist_test)-1)\n",
    "X_single_data = mnist_test.test_data[r:r+1].view(-1, 28*28).float().to(device)\n",
    "Y_single_data = mnist_test.test_labels[r:r+1]"
   ]
  },
  {
   "cell_type": "code",
   "execution_count": null,
   "id": "alone-mountain",
   "metadata": {},
   "outputs": [],
   "source": []
  },
  {
   "cell_type": "code",
   "execution_count": null,
   "id": "extra-apartment",
   "metadata": {},
   "outputs": [],
   "source": []
  }
 ],
 "metadata": {
  "kernelspec": {
   "display_name": "Python 3",
   "language": "python",
   "name": "python3"
  },
  "language_info": {
   "codemirror_mode": {
    "name": "ipython",
    "version": 3
   },
   "file_extension": ".py",
   "mimetype": "text/x-python",
   "name": "python",
   "nbconvert_exporter": "python",
   "pygments_lexer": "ipython3",
   "version": "3.8.5"
  }
 },
 "nbformat": 4,
 "nbformat_minor": 5
}
