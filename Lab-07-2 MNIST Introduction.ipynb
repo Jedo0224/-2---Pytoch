{
 "cells": [
  {
   "cell_type": "code",
   "execution_count": 1,
   "id": "supposed-float",
   "metadata": {},
   "outputs": [],
   "source": [
    "# What is MNIST?\n",
    "# MNIST : handwritten digits dataset 손으로 쓴 우편번호를 자동으로 인식하고자 만들어짐\n",
    "# 왜 MNISTf를 사용할 때 crossentropy을 사용하는가?"
   ]
  },
  {
   "cell_type": "code",
   "execution_count": null,
   "id": "structural-denmark",
   "metadata": {},
   "outputs": [],
   "source": []
  },
  {
   "cell_type": "code",
   "execution_count": null,
   "id": "emotional-process",
   "metadata": {},
   "outputs": [],
   "source": []
  },
  {
   "cell_type": "markdown",
   "id": "fixed-fraction",
   "metadata": {},
   "source": [
    "# Reading data"
   ]
  },
  {
   "cell_type": "code",
   "execution_count": 2,
   "id": "agricultural-avenue",
   "metadata": {},
   "outputs": [],
   "source": [
    "import torch\n",
    "import torchvision.datasets as dsets\n",
    "import torchvision.transforms as transforms\n",
    "import matplotlib.pyplot as plt\n",
    "import random\n"
   ]
  },
  {
   "cell_type": "code",
   "execution_count": 3,
   "id": "maritime-ethiopia",
   "metadata": {},
   "outputs": [],
   "source": [
    "device = 'cuda' if torch.cuda.is_available() else 'cpu'\n",
    "\n",
    "# for reproducibility\n",
    "random.seed(777)\n",
    "torch.manual_seed(777)\n",
    "if device == 'cuda':\n",
    "    torch.cuda.manual_seed_all(777)\n",
    "    \n",
    "    \n",
    "training_epochs = 15\n",
    "batch_size = 100"
   ]
  },
  {
   "cell_type": "code",
   "execution_count": 4,
   "id": "unable-benchmark",
   "metadata": {},
   "outputs": [],
   "source": [
    "# ToTensor : img파일을 pytorch 형태에 맞게 재배치, [H,W,C] -> [C,H,W]"
   ]
  },
  {
   "cell_type": "code",
   "execution_count": 5,
   "id": "wireless-bishop",
   "metadata": {},
   "outputs": [],
   "source": [
    "# one epoch : 전체가 한번 학습을 하였다. (6만의 sample을 한번 학습했다 -> one epoch)\n",
    "# batch size : 가능하다면 6만장을 한꺼번에 사용하면 좋겠지만, 너무 많은 cpu 용량을 사용하므로 잘라서 사용한다.\n",
    "# iterations : 학습 횟수\n",
    "\n",
    "# if you have 1000 training -> batch size : 500, iterations: 2 , one epoch "
   ]
  },
  {
   "cell_type": "code",
   "execution_count": 6,
   "id": "hawaiian-suspect",
   "metadata": {},
   "outputs": [
    {
     "name": "stderr",
     "output_type": "stream",
     "text": [
      "C:\\ProgramData\\Miniconda3\\lib\\site-packages\\torchvision\\datasets\\mnist.py:498: UserWarning: The given NumPy array is not writeable, and PyTorch does not support non-writeable tensors. This means you can write to the underlying (supposedly non-writeable) NumPy array using the tensor. You may want to copy the array to protect its data or make it writeable before converting it to a tensor. This type of warning will be suppressed for the rest of this program. (Triggered internally at  ..\\torch\\csrc\\utils\\tensor_numpy.cpp:180.)\n",
      "  return torch.from_numpy(parsed.astype(m[2], copy=False)).view(*s)\n"
     ]
    }
   ],
   "source": [
    "mnist_train = dsets.MNIST(root=\"MNIST_data/\",train=True, transform = transforms.ToTensor(),download=True)\n"
   ]
  },
  {
   "cell_type": "code",
   "execution_count": 7,
   "id": "sharing-sharing",
   "metadata": {},
   "outputs": [],
   "source": [
    "mnist_test = dsets.MNIST(root=\"MNIST_data/\",train=False, transform = transforms.ToTensor(),download=True)\n"
   ]
  },
  {
   "cell_type": "code",
   "execution_count": 8,
   "id": "african-jaguar",
   "metadata": {},
   "outputs": [],
   "source": [
    "data_loader = torch.utils.data.DataLoader(dataset=mnist_train,\n",
    "                                          batch_size = batch_size,\n",
    "                                          shuffle=True,\n",
    "                                          drop_last=True)"
   ]
  },
  {
   "cell_type": "code",
   "execution_count": null,
   "id": "fifteen-terminology",
   "metadata": {},
   "outputs": [],
   "source": []
  },
  {
   "cell_type": "code",
   "execution_count": 9,
   "id": "auburn-driving",
   "metadata": {},
   "outputs": [],
   "source": [
    "linear = torch.nn.Linear(784,10, bias=True).to(device)\n",
    "\n",
    "training_epochs = 15\n",
    "batch_size = 100\n",
    "\n",
    "criterion = torch.nn.CrossEntropyLoss().to(device) # CrossEntropyLoss가 Softmax를 계산해주기 때문에 Softmax를 따로 구하지 않는다\n",
    "optimizer = torch.optim.SGD(linear.parameters(),lr=0.1)"
   ]
  },
  {
   "cell_type": "code",
   "execution_count": 10,
   "id": "greatest-establishment",
   "metadata": {},
   "outputs": [
    {
     "name": "stdout",
     "output_type": "stream",
     "text": [
      "Epoch: 0001 cost = 0.535150588\n",
      "Epoch: 0002 cost = 0.359577775\n",
      "Epoch: 0003 cost = 0.331264257\n",
      "Epoch: 0004 cost = 0.316404670\n",
      "Epoch: 0005 cost = 0.307106972\n",
      "Epoch: 0006 cost = 0.300456554\n",
      "Epoch: 0007 cost = 0.294933408\n",
      "Epoch: 0008 cost = 0.290956199\n",
      "Epoch: 0009 cost = 0.287074119\n",
      "Epoch: 0010 cost = 0.284515619\n",
      "Epoch: 0011 cost = 0.281914055\n",
      "Epoch: 0012 cost = 0.279526860\n",
      "Epoch: 0013 cost = 0.277636588\n",
      "Epoch: 0014 cost = 0.275874794\n",
      "Epoch: 0015 cost = 0.274422795\n",
      "Learning finished\n"
     ]
    }
   ],
   "source": [
    "for epoch in range(training_epochs):\n",
    "    avg_cost = 0\n",
    "    total_batch = len(data_loader)\n",
    "\n",
    "    for X, Y in data_loader:\n",
    "        X = X.view(-1, 28 * 28).to(device)\n",
    "        Y = Y.to(device)\n",
    "\n",
    "        optimizer.zero_grad()\n",
    "        hypothesis = linear(X)\n",
    "        cost = criterion(hypothesis, Y)\n",
    "        cost.backward()\n",
    "        optimizer.step()\n",
    "\n",
    "        avg_cost += cost / total_batch\n",
    "\n",
    "    print('Epoch:', '%04d' % (epoch + 1), 'cost =', '{:.9f}'.format(avg_cost))\n",
    "\n",
    "print('Learning finished')"
   ]
  },
  {
   "cell_type": "code",
   "execution_count": 29,
   "id": "legislative-assist",
   "metadata": {
    "scrolled": true
   },
   "outputs": [
    {
     "name": "stdout",
     "output_type": "stream",
     "text": [
      "tensor([[0., 0., 0.,  ..., 0., 0., 0.],\n",
      "        [0., 0., 0.,  ..., 0., 0., 0.],\n",
      "        [0., 0., 0.,  ..., 0., 0., 0.],\n",
      "        ...,\n",
      "        [0., 0., 0.,  ..., 0., 0., 0.],\n",
      "        [0., 0., 0.,  ..., 0., 0., 0.],\n",
      "        [0., 0., 0.,  ..., 0., 0., 0.]])\n",
      "tensor([7, 2, 1,  ..., 4, 5, 6])\n",
      "tensor([[  218.3590, -2471.1318,   346.5566,  ...,  2475.0420,   393.8428,\n",
      "           791.0421],\n",
      "        [ 1371.9009,  -277.0624,  2713.9375,  ..., -4234.6177,  1532.6042,\n",
      "         -2211.7588],\n",
      "        [-1382.6365,  1494.4281,   469.1554,  ...,   -66.9944,   583.4091,\n",
      "          -306.6615],\n",
      "        ...,\n",
      "        [-1844.4420, -1886.7227,  -646.3809,  ...,   219.7060,  1380.8781,\n",
      "          1161.1754],\n",
      "        [ -452.9103,  -435.2787,  -480.9557,  ..., -1436.7555,  1700.6122,\n",
      "          -690.3710],\n",
      "        [ 1071.7998, -2663.1636,  1398.3976,  ..., -2211.9243,   457.8309,\n",
      "          -946.5880]])\n",
      "tensor([7, 2, 1,  ..., 4, 8, 6])\n",
      "Accuracy: 0.8883000016212463\n"
     ]
    }
   ],
   "source": [
    "with torch.no_grad(): #torch.no_grad() - grad사용을 안하겠다. 실수 방지용\n",
    "\n",
    "#1) 자원을 획득한다\n",
    "\n",
    "#2) 자원을 사용한다\n",
    "\n",
    "#3) 자원을 반납한다데이터베이스 세션을 얻어 사용했다면 다른 프로세스를 위해 반납해야 합니다.\n",
    "\n",
    "#자원은 한정되어 있기 때문에 적절히 획득과 반납해야 합니다.\n",
    "\n",
    "    X_test=  mnist_test.test_data.view(-1,28*28).float().to(device)\n",
    "    print(X_test)\n",
    "    Y_test= mnist_test.test_labels.to(device)\n",
    "    print(Y_test)\n",
    "    prediction = linear(X_test)\n",
    "    print(prediction)\n",
    "    correct_prediction = torch.argmax(prediction,1) == Y_test #torch.argmax(prediction,1) \n",
    "    print(torch.argmax(prediction,1))\n",
    "    accuracy = correct_prediction.float().mean()\n",
    "    print(\"Accuracy:\", accuracy.item())"
   ]
  },
  {
   "cell_type": "code",
   "execution_count": 30,
   "id": "fantastic-inspection",
   "metadata": {},
   "outputs": [],
   "source": [
    "import matplotlib.pyplot as plt\n",
    "import random"
   ]
  },
  {
   "cell_type": "code",
   "execution_count": 33,
   "id": "protected-section",
   "metadata": {},
   "outputs": [
    {
     "name": "stdout",
     "output_type": "stream",
     "text": [
      "Label: 9\n",
      "Prediction: 9\n"
     ]
    },
    {
     "data": {
      "text/plain": [
       "<function matplotlib.pyplot.show(close=None, block=None)>"
      ]
     },
     "execution_count": 33,
     "metadata": {},
     "output_type": "execute_result"
    },
    {
     "data": {
      "image/png": "[encoded data removed]",
      "text/plain": [
       "<Figure size 432x288 with 1 Axes>"
      ]
     },
     "metadata": {
      "needs_background": "light"
     },
     "output_type": "display_data"
    }
   ],
   "source": [
    "r = random.randint(0, len(mnist_test)-1) #범위 설정이 헷갈림 다시 공부\n",
    "X_single_data = mnist_test.test_data[r:r+1].view(-1, 28*28).float().to(device)\n",
    "Y_single_data = mnist_test.test_labels[r:r+1].to(device)\n",
    "print(\"Label:\",Y_single_data.item())\n",
    "single_prediction = linear(X_single_data)\n",
    "print(\"Prediction:\", torch.argmax(single_prediction,1).item())\n",
    "\n",
    "plt.imshow(mnist_test.test_data[r:r+1].view(28,28),cmap=\"Greys\",interpolation=\"nearest\")\n",
    "plt.show"
   ]
  },
  {
   "cell_type": "code",
   "execution_count": null,
   "id": "alone-mountain",
   "metadata": {},
   "outputs": [],
   "source": []
  },
  {
   "cell_type": "code",
   "execution_count": null,
   "id": "extra-apartment",
   "metadata": {},
   "outputs": [],
   "source": []
  }
 ],
 "metadata": {
  "kernelspec": {
   "display_name": "Python 3",
   "language": "python",
   "name": "python3"
  },
  "language_info": {
   "codemirror_mode": {
    "name": "ipython",
    "version": 3
   },
   "file_extension": ".py",
   "mimetype": "text/x-python",
   "name": "python",
   "nbconvert_exporter": "python",
   "pygments_lexer": "ipython3",
   "version": "3.8.5"
  }
 },
 "nbformat": 4,
 "nbformat_minor": 5
}
