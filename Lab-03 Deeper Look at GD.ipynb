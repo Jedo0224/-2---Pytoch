{
 "cells": [
  {
   "cell_type": "code",
   "execution_count": 9,
   "id": "proper-silence",
   "metadata": {},
   "outputs": [
    {
     "name": "stdout",
     "output_type": "stream",
     "text": [
      "Epoch:    1/10 w:1.400,Cost:4.666667\n",
      "Epoch:    2/10 w:0.840,Cost:0.746667\n",
      "Epoch:    3/10 w:1.064,Cost:0.119467\n",
      "Epoch:    4/10 w:0.974,Cost:0.019115\n",
      "Epoch:    5/10 w:1.010,Cost:0.003058\n",
      "Epoch:    6/10 w:0.996,Cost:0.000489\n",
      "Epoch:    7/10 w:1.002,Cost:0.000078\n",
      "Epoch:    8/10 w:0.999,Cost:0.000013\n",
      "Epoch:    9/10 w:1.000,Cost:0.000002\n",
      "Epoch:   10/10 w:1.000,Cost:0.000000\n"
     ]
    }
   ],
   "source": [
    "import torch\n",
    "import torch.optim as optim\n",
    "\n",
    "x_train = torch.FloatTensor([[1],[2],[3]])\n",
    "y_train = torch.FloatTensor([[1],[2],[3]])\n",
    "\n",
    "W = torch.zeros(1, requires_grad=True)\n",
    "# lr = 0.1 \n",
    "\n",
    "# nb_epochs = 10\n",
    "# for epoch in range(nb_epochs +1):\n",
    "    \n",
    "#     hypothesis = x_train * W \n",
    "#     cost = torch.mean((hypothesis - y_train) ** 2)\n",
    "#     gradient = 2*torch.mean((W * x_train - y_train) * x_train)\n",
    "    \n",
    "#     print(\"Epoch: {:4d}/{} w:{:.3f},Cost:{:.6f}\".format(epoch,nb_epochs,W.item(), cost.item()))\n",
    "    \n",
    "#     W -= lr * gradient\n",
    "    \n",
    "optimizer = optim.SGD([W],lr=0.15) # [W,b]는 학습할 tensor들 / lr은 learning rate\n",
    "\n",
    "\n",
    "nb_epochs = 10\n",
    "for epoch in range(1, nb_epochs +1):\n",
    "    hypothesis = x_train * W \n",
    "    cost = torch.mean((hypothesis - y_train)**2)\n",
    "    \n",
    "    # 항상 붙어다니는 3줄\n",
    "    optimizer.zero_grad() # grad 초기화\n",
    "    cost.backward() # grad 계산\n",
    "    optimizer.step() # 개선 weight 와 bias, w와 B를 계산\n",
    "\n",
    "    print(\"Epoch: {:4d}/{} w:{:.3f},Cost:{:.6f}\".format(epoch,nb_epochs,W.item(), cost.item()))\n",
    "\n"
   ]
  },
  {
   "cell_type": "code",
   "execution_count": null,
   "id": "promising-titanium",
   "metadata": {},
   "outputs": [],
   "source": []
  }
 ],
 "metadata": {
  "kernelspec": {
   "display_name": "Python 3",
   "language": "python",
   "name": "python3"
  },
  "language_info": {
   "codemirror_mode": {
    "name": "ipython",
    "version": 3
   },
   "file_extension": ".py",
   "mimetype": "text/x-python",
   "name": "python",
   "nbconvert_exporter": "python",
   "pygments_lexer": "ipython3",
   "version": "3.8.5"
  }
 },
 "nbformat": 4,
 "nbformat_minor": 5
}
